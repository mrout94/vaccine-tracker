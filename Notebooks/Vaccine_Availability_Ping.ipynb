{
 "cells": [
  {
   "cell_type": "markdown",
   "metadata": {},
   "source": [
    "# Imports"
   ]
  },
  {
   "cell_type": "code",
   "execution_count": 1,
   "metadata": {},
   "outputs": [],
   "source": [
    "import pandas as pd\n",
    "from bs4 import BeautifulSoup\n",
    "import requests\n",
    "import json\n",
    "from datetime import datetime"
   ]
  },
  {
   "cell_type": "markdown",
   "metadata": {},
   "source": [
    "# State Data"
   ]
  },
  {
   "cell_type": "code",
   "execution_count": 2,
   "metadata": {},
   "outputs": [
    {
     "data": {
      "text/html": [
       "<div>\n",
       "<style scoped>\n",
       "    .dataframe tbody tr th:only-of-type {\n",
       "        vertical-align: middle;\n",
       "    }\n",
       "\n",
       "    .dataframe tbody tr th {\n",
       "        vertical-align: top;\n",
       "    }\n",
       "\n",
       "    .dataframe thead th {\n",
       "        text-align: right;\n",
       "    }\n",
       "</style>\n",
       "<table border=\"1\" class=\"dataframe\">\n",
       "  <thead>\n",
       "    <tr style=\"text-align: right;\">\n",
       "      <th></th>\n",
       "      <th>state_id</th>\n",
       "      <th>state_name</th>\n",
       "    </tr>\n",
       "  </thead>\n",
       "  <tbody>\n",
       "    <tr>\n",
       "      <th>0</th>\n",
       "      <td>1</td>\n",
       "      <td>Andaman and Nicobar Islands</td>\n",
       "    </tr>\n",
       "    <tr>\n",
       "      <th>1</th>\n",
       "      <td>2</td>\n",
       "      <td>Andhra Pradesh</td>\n",
       "    </tr>\n",
       "    <tr>\n",
       "      <th>2</th>\n",
       "      <td>3</td>\n",
       "      <td>Arunachal Pradesh</td>\n",
       "    </tr>\n",
       "    <tr>\n",
       "      <th>3</th>\n",
       "      <td>4</td>\n",
       "      <td>Assam</td>\n",
       "    </tr>\n",
       "    <tr>\n",
       "      <th>4</th>\n",
       "      <td>5</td>\n",
       "      <td>Bihar</td>\n",
       "    </tr>\n",
       "  </tbody>\n",
       "</table>\n",
       "</div>"
      ],
      "text/plain": [
       "   state_id                   state_name\n",
       "0         1  Andaman and Nicobar Islands\n",
       "1         2               Andhra Pradesh\n",
       "2         3            Arunachal Pradesh\n",
       "3         4                        Assam\n",
       "4         5                        Bihar"
      ]
     },
     "execution_count": 2,
     "metadata": {},
     "output_type": "execute_result"
    }
   ],
   "source": [
    "res = requests.get('https://cdn-api.co-vin.in/api/v2/admin/location/states')\n",
    "df_states = pd.DataFrame(json.loads(res.text)[\"states\"])\n",
    "df_states.head()"
   ]
  },
  {
   "cell_type": "code",
   "execution_count": 3,
   "metadata": {},
   "outputs": [
    {
     "data": {
      "text/plain": [
       "(37, 2)"
      ]
     },
     "execution_count": 3,
     "metadata": {},
     "output_type": "execute_result"
    }
   ],
   "source": [
    "df_states.shape"
   ]
  },
  {
   "cell_type": "code",
   "execution_count": 4,
   "metadata": {},
   "outputs": [],
   "source": [
    "df_states.to_csv('./Data/State_Names.csv', index = False)"
   ]
  },
  {
   "cell_type": "markdown",
   "metadata": {},
   "source": [
    "# Disctricts Data"
   ]
  },
  {
   "cell_type": "code",
   "execution_count": 5,
   "metadata": {},
   "outputs": [],
   "source": [
    "unique_state_ids = df_states['state_id'].unique().tolist()"
   ]
  },
  {
   "cell_type": "code",
   "execution_count": 6,
   "metadata": {},
   "outputs": [],
   "source": [
    "df_districts = None\n",
    "for state_id in unique_state_ids:\n",
    "    res = requests.get(f'https://cdn-api.co-vin.in/api/v2/admin/location/districts/{state_id}')\n",
    "    temp_df = pd.DataFrame(json.loads(res.text)['districts'])\n",
    "    temp_df['state_id'] = state_id\n",
    "    if df_districts is None:\n",
    "        df_districts = temp_df\n",
    "    else:\n",
    "        df_districts = pd.concat([df_districts, temp_df], ignore_index=True)"
   ]
  },
  {
   "cell_type": "code",
   "execution_count": 7,
   "metadata": {},
   "outputs": [
    {
     "data": {
      "text/plain": [
       "(756, 3)"
      ]
     },
     "execution_count": 7,
     "metadata": {},
     "output_type": "execute_result"
    }
   ],
   "source": [
    "df_districts.shape"
   ]
  },
  {
   "cell_type": "code",
   "execution_count": 8,
   "metadata": {},
   "outputs": [],
   "source": [
    "df_districts.to_csv('./Data/Disctrict_Names.csv', index = False)"
   ]
  },
  {
   "cell_type": "markdown",
   "metadata": {},
   "source": [
    "# Combine State And Districts"
   ]
  },
  {
   "cell_type": "code",
   "execution_count": 9,
   "metadata": {},
   "outputs": [
    {
     "data": {
      "text/html": [
       "<div>\n",
       "<style scoped>\n",
       "    .dataframe tbody tr th:only-of-type {\n",
       "        vertical-align: middle;\n",
       "    }\n",
       "\n",
       "    .dataframe tbody tr th {\n",
       "        vertical-align: top;\n",
       "    }\n",
       "\n",
       "    .dataframe thead th {\n",
       "        text-align: right;\n",
       "    }\n",
       "</style>\n",
       "<table border=\"1\" class=\"dataframe\">\n",
       "  <thead>\n",
       "    <tr style=\"text-align: right;\">\n",
       "      <th></th>\n",
       "      <th>district_id</th>\n",
       "      <th>district_name</th>\n",
       "      <th>state_id</th>\n",
       "      <th>state_name</th>\n",
       "    </tr>\n",
       "  </thead>\n",
       "  <tbody>\n",
       "    <tr>\n",
       "      <th>0</th>\n",
       "      <td>3</td>\n",
       "      <td>Nicobar</td>\n",
       "      <td>1</td>\n",
       "      <td>Andaman and Nicobar Islands</td>\n",
       "    </tr>\n",
       "    <tr>\n",
       "      <th>1</th>\n",
       "      <td>1</td>\n",
       "      <td>North and Middle Andaman</td>\n",
       "      <td>1</td>\n",
       "      <td>Andaman and Nicobar Islands</td>\n",
       "    </tr>\n",
       "    <tr>\n",
       "      <th>2</th>\n",
       "      <td>2</td>\n",
       "      <td>South Andaman</td>\n",
       "      <td>1</td>\n",
       "      <td>Andaman and Nicobar Islands</td>\n",
       "    </tr>\n",
       "    <tr>\n",
       "      <th>3</th>\n",
       "      <td>9</td>\n",
       "      <td>Anantapur</td>\n",
       "      <td>2</td>\n",
       "      <td>Andhra Pradesh</td>\n",
       "    </tr>\n",
       "    <tr>\n",
       "      <th>4</th>\n",
       "      <td>10</td>\n",
       "      <td>Chittoor</td>\n",
       "      <td>2</td>\n",
       "      <td>Andhra Pradesh</td>\n",
       "    </tr>\n",
       "  </tbody>\n",
       "</table>\n",
       "</div>"
      ],
      "text/plain": [
       "   district_id             district_name  state_id  \\\n",
       "0            3                   Nicobar         1   \n",
       "1            1  North and Middle Andaman         1   \n",
       "2            2             South Andaman         1   \n",
       "3            9                 Anantapur         2   \n",
       "4           10                  Chittoor         2   \n",
       "\n",
       "                    state_name  \n",
       "0  Andaman and Nicobar Islands  \n",
       "1  Andaman and Nicobar Islands  \n",
       "2  Andaman and Nicobar Islands  \n",
       "3               Andhra Pradesh  \n",
       "4               Andhra Pradesh  "
      ]
     },
     "execution_count": 9,
     "metadata": {},
     "output_type": "execute_result"
    }
   ],
   "source": [
    "df_full = pd.merge(df_districts, df_states, on='state_id')\n",
    "df_full.head()"
   ]
  },
  {
   "cell_type": "code",
   "execution_count": 10,
   "metadata": {},
   "outputs": [],
   "source": [
    "df_full.to_csv('./Data/State_And_Disctrict_Names.csv', index = False)"
   ]
  },
  {
   "cell_type": "markdown",
   "metadata": {},
   "source": [
    "# Get Vaccine Availability"
   ]
  },
  {
   "cell_type": "code",
   "execution_count": 11,
   "metadata": {},
   "outputs": [],
   "source": [
    "DIST_ID = '446'\n",
    "START_DATE = datetime.today().strftime('%d-%m-%Y')"
   ]
  },
  {
   "cell_type": "code",
   "execution_count": 12,
   "metadata": {},
   "outputs": [],
   "source": [
    "VAX_DATA_PORTAL = f'https://cdn-api.co-vin.in/api/v2/appointment/sessions/public/calendarByDistrict?district_id={DIST_ID}&date={START_DATE}'"
   ]
  },
  {
   "cell_type": "code",
   "execution_count": 13,
   "metadata": {},
   "outputs": [
    {
     "data": {
      "text/html": [
       "<div>\n",
       "<style scoped>\n",
       "    .dataframe tbody tr th:only-of-type {\n",
       "        vertical-align: middle;\n",
       "    }\n",
       "\n",
       "    .dataframe tbody tr th {\n",
       "        vertical-align: top;\n",
       "    }\n",
       "\n",
       "    .dataframe thead th {\n",
       "        text-align: right;\n",
       "    }\n",
       "</style>\n",
       "<table border=\"1\" class=\"dataframe\">\n",
       "  <thead>\n",
       "    <tr style=\"text-align: right;\">\n",
       "      <th></th>\n",
       "      <th>center_id</th>\n",
       "      <th>name</th>\n",
       "      <th>address</th>\n",
       "      <th>state_name</th>\n",
       "      <th>district_name</th>\n",
       "      <th>block_name</th>\n",
       "      <th>pincode</th>\n",
       "      <th>lat</th>\n",
       "      <th>long</th>\n",
       "      <th>from</th>\n",
       "      <th>to</th>\n",
       "      <th>fee_type</th>\n",
       "      <th>sessions</th>\n",
       "    </tr>\n",
       "  </thead>\n",
       "  <tbody>\n",
       "    <tr>\n",
       "      <th>0</th>\n",
       "      <td>693349</td>\n",
       "      <td>Baramunda UPHC WN50 (Age18-44)</td>\n",
       "      <td>Near Nilakanteswar Mandir Sapatabdhi Nagar Bhu...</td>\n",
       "      <td>Odisha</td>\n",
       "      <td>Khurda</td>\n",
       "      <td>Bhubaneswar MC</td>\n",
       "      <td>751003</td>\n",
       "      <td>20</td>\n",
       "      <td>85</td>\n",
       "      <td>08:30:00</td>\n",
       "      <td>13:00:00</td>\n",
       "      <td>Free</td>\n",
       "      <td>[{'session_id': '2456762c-fd53-4e6f-baeb-a722f...</td>\n",
       "    </tr>\n",
       "    <tr>\n",
       "      <th>1</th>\n",
       "      <td>555866</td>\n",
       "      <td>Capital Hospital BBSR</td>\n",
       "      <td>Unit 6 Capital Hospital Bhubaneswar</td>\n",
       "      <td>Odisha</td>\n",
       "      <td>Khurda</td>\n",
       "      <td>Bhubaneswar MC</td>\n",
       "      <td>751001</td>\n",
       "      <td>20</td>\n",
       "      <td>85</td>\n",
       "      <td>15:00:00</td>\n",
       "      <td>18:00:00</td>\n",
       "      <td>Free</td>\n",
       "      <td>[{'session_id': 'b831f7ed-1d74-41a3-ac66-0528c...</td>\n",
       "    </tr>\n",
       "    <tr>\n",
       "      <th>2</th>\n",
       "      <td>624523</td>\n",
       "      <td>Health Village Hospital BBSR</td>\n",
       "      <td>15 1 Civic Centre IRC Village Nayapalli Bhuban...</td>\n",
       "      <td>Odisha</td>\n",
       "      <td>Khurda</td>\n",
       "      <td>Bhubaneswar MC</td>\n",
       "      <td>751015</td>\n",
       "      <td>20</td>\n",
       "      <td>85</td>\n",
       "      <td>09:00:00</td>\n",
       "      <td>18:00:00</td>\n",
       "      <td>Paid</td>\n",
       "      <td>[{'session_id': 'd7cf310d-2413-4263-aa4f-07e26...</td>\n",
       "    </tr>\n",
       "    <tr>\n",
       "      <th>3</th>\n",
       "      <td>577315</td>\n",
       "      <td>UPHC POKHARIPUT</td>\n",
       "      <td>Antanta Vihar Plot No 149 Pokhariput Bhubaneswar</td>\n",
       "      <td>Odisha</td>\n",
       "      <td>Khurda</td>\n",
       "      <td>Bhubaneswar MC</td>\n",
       "      <td>751006</td>\n",
       "      <td>20</td>\n",
       "      <td>85</td>\n",
       "      <td>15:00:00</td>\n",
       "      <td>18:00:00</td>\n",
       "      <td>Free</td>\n",
       "      <td>[{'session_id': 'a861c1ae-2822-4d9a-aa24-92179...</td>\n",
       "    </tr>\n",
       "    <tr>\n",
       "      <th>4</th>\n",
       "      <td>503376</td>\n",
       "      <td>JANLA HOSPITAL CVC</td>\n",
       "      <td>JANLA HOSPITAL</td>\n",
       "      <td>Odisha</td>\n",
       "      <td>Khurda</td>\n",
       "      <td>Jatani</td>\n",
       "      <td>752054</td>\n",
       "      <td>20</td>\n",
       "      <td>85</td>\n",
       "      <td>09:00:00</td>\n",
       "      <td>18:00:00</td>\n",
       "      <td>Free</td>\n",
       "      <td>[{'session_id': '45c6a95e-b42f-491e-9750-de9b3...</td>\n",
       "    </tr>\n",
       "  </tbody>\n",
       "</table>\n",
       "</div>"
      ],
      "text/plain": [
       "   center_id                            name  \\\n",
       "0     693349  Baramunda UPHC WN50 (Age18-44)   \n",
       "1     555866           Capital Hospital BBSR   \n",
       "2     624523    Health Village Hospital BBSR   \n",
       "3     577315                 UPHC POKHARIPUT   \n",
       "4     503376              JANLA HOSPITAL CVC   \n",
       "\n",
       "                                             address state_name district_name  \\\n",
       "0  Near Nilakanteswar Mandir Sapatabdhi Nagar Bhu...     Odisha        Khurda   \n",
       "1                Unit 6 Capital Hospital Bhubaneswar     Odisha        Khurda   \n",
       "2  15 1 Civic Centre IRC Village Nayapalli Bhuban...     Odisha        Khurda   \n",
       "3   Antanta Vihar Plot No 149 Pokhariput Bhubaneswar     Odisha        Khurda   \n",
       "4                                     JANLA HOSPITAL     Odisha        Khurda   \n",
       "\n",
       "       block_name  pincode  lat  long      from        to fee_type  \\\n",
       "0  Bhubaneswar MC   751003   20    85  08:30:00  13:00:00     Free   \n",
       "1  Bhubaneswar MC   751001   20    85  15:00:00  18:00:00     Free   \n",
       "2  Bhubaneswar MC   751015   20    85  09:00:00  18:00:00     Paid   \n",
       "3  Bhubaneswar MC   751006   20    85  15:00:00  18:00:00     Free   \n",
       "4          Jatani   752054   20    85  09:00:00  18:00:00     Free   \n",
       "\n",
       "                                            sessions  \n",
       "0  [{'session_id': '2456762c-fd53-4e6f-baeb-a722f...  \n",
       "1  [{'session_id': 'b831f7ed-1d74-41a3-ac66-0528c...  \n",
       "2  [{'session_id': 'd7cf310d-2413-4263-aa4f-07e26...  \n",
       "3  [{'session_id': 'a861c1ae-2822-4d9a-aa24-92179...  \n",
       "4  [{'session_id': '45c6a95e-b42f-491e-9750-de9b3...  "
      ]
     },
     "execution_count": 13,
     "metadata": {},
     "output_type": "execute_result"
    }
   ],
   "source": [
    "res = requests.get(VAX_DATA_PORTAL)\n",
    "vax_info_df = pd.DataFrame(json.loads(res.text)['centers'])\n",
    "vax_info_df.head()"
   ]
  },
  {
   "cell_type": "code",
   "execution_count": 14,
   "metadata": {},
   "outputs": [
    {
     "data": {
      "text/html": [
       "<div>\n",
       "<style scoped>\n",
       "    .dataframe tbody tr th:only-of-type {\n",
       "        vertical-align: middle;\n",
       "    }\n",
       "\n",
       "    .dataframe tbody tr th {\n",
       "        vertical-align: top;\n",
       "    }\n",
       "\n",
       "    .dataframe thead th {\n",
       "        text-align: right;\n",
       "    }\n",
       "</style>\n",
       "<table border=\"1\" class=\"dataframe\">\n",
       "  <thead>\n",
       "    <tr style=\"text-align: right;\">\n",
       "      <th></th>\n",
       "      <th>center_id</th>\n",
       "      <th>name</th>\n",
       "      <th>address</th>\n",
       "      <th>state_name</th>\n",
       "      <th>district_name</th>\n",
       "      <th>block_name</th>\n",
       "      <th>pincode</th>\n",
       "      <th>lat</th>\n",
       "      <th>long</th>\n",
       "      <th>from</th>\n",
       "      <th>to</th>\n",
       "      <th>fee_type</th>\n",
       "      <th>sessions</th>\n",
       "      <th>Min_Age</th>\n",
       "      <th>Doses_Available</th>\n",
       "      <th>Vaccine</th>\n",
       "      <th>Date</th>\n",
       "    </tr>\n",
       "  </thead>\n",
       "  <tbody>\n",
       "    <tr>\n",
       "      <th>0</th>\n",
       "      <td>693349</td>\n",
       "      <td>Baramunda UPHC WN50 (Age18-44)</td>\n",
       "      <td>Near Nilakanteswar Mandir Sapatabdhi Nagar Bhu...</td>\n",
       "      <td>Odisha</td>\n",
       "      <td>Khurda</td>\n",
       "      <td>Bhubaneswar MC</td>\n",
       "      <td>751003</td>\n",
       "      <td>20</td>\n",
       "      <td>85</td>\n",
       "      <td>08:30:00</td>\n",
       "      <td>13:00:00</td>\n",
       "      <td>Free</td>\n",
       "      <td>{'session_id': '2456762c-fd53-4e6f-baeb-a722fe...</td>\n",
       "      <td>18</td>\n",
       "      <td>0</td>\n",
       "      <td>COVAXIN</td>\n",
       "      <td>03-05-2021</td>\n",
       "    </tr>\n",
       "    <tr>\n",
       "      <th>1</th>\n",
       "      <td>693349</td>\n",
       "      <td>Baramunda UPHC WN50 (Age18-44)</td>\n",
       "      <td>Near Nilakanteswar Mandir Sapatabdhi Nagar Bhu...</td>\n",
       "      <td>Odisha</td>\n",
       "      <td>Khurda</td>\n",
       "      <td>Bhubaneswar MC</td>\n",
       "      <td>751003</td>\n",
       "      <td>20</td>\n",
       "      <td>85</td>\n",
       "      <td>08:30:00</td>\n",
       "      <td>13:00:00</td>\n",
       "      <td>Free</td>\n",
       "      <td>{'session_id': 'e7ff8b8e-61e5-4030-9e14-3c143f...</td>\n",
       "      <td>18</td>\n",
       "      <td>0</td>\n",
       "      <td>COVAXIN</td>\n",
       "      <td>04-05-2021</td>\n",
       "    </tr>\n",
       "    <tr>\n",
       "      <th>2</th>\n",
       "      <td>693349</td>\n",
       "      <td>Baramunda UPHC WN50 (Age18-44)</td>\n",
       "      <td>Near Nilakanteswar Mandir Sapatabdhi Nagar Bhu...</td>\n",
       "      <td>Odisha</td>\n",
       "      <td>Khurda</td>\n",
       "      <td>Bhubaneswar MC</td>\n",
       "      <td>751003</td>\n",
       "      <td>20</td>\n",
       "      <td>85</td>\n",
       "      <td>08:30:00</td>\n",
       "      <td>13:00:00</td>\n",
       "      <td>Free</td>\n",
       "      <td>{'session_id': '3d0277b4-8eac-4a4e-a5de-7cdde3...</td>\n",
       "      <td>18</td>\n",
       "      <td>0</td>\n",
       "      <td>COVAXIN</td>\n",
       "      <td>05-05-2021</td>\n",
       "    </tr>\n",
       "    <tr>\n",
       "      <th>3</th>\n",
       "      <td>693349</td>\n",
       "      <td>Baramunda UPHC WN50 (Age18-44)</td>\n",
       "      <td>Near Nilakanteswar Mandir Sapatabdhi Nagar Bhu...</td>\n",
       "      <td>Odisha</td>\n",
       "      <td>Khurda</td>\n",
       "      <td>Bhubaneswar MC</td>\n",
       "      <td>751003</td>\n",
       "      <td>20</td>\n",
       "      <td>85</td>\n",
       "      <td>08:30:00</td>\n",
       "      <td>13:00:00</td>\n",
       "      <td>Free</td>\n",
       "      <td>{'session_id': 'efce6cc7-8dad-4058-b5e3-e462f7...</td>\n",
       "      <td>18</td>\n",
       "      <td>0</td>\n",
       "      <td>COVAXIN</td>\n",
       "      <td>06-05-2021</td>\n",
       "    </tr>\n",
       "    <tr>\n",
       "      <th>4</th>\n",
       "      <td>693349</td>\n",
       "      <td>Baramunda UPHC WN50 (Age18-44)</td>\n",
       "      <td>Near Nilakanteswar Mandir Sapatabdhi Nagar Bhu...</td>\n",
       "      <td>Odisha</td>\n",
       "      <td>Khurda</td>\n",
       "      <td>Bhubaneswar MC</td>\n",
       "      <td>751003</td>\n",
       "      <td>20</td>\n",
       "      <td>85</td>\n",
       "      <td>08:30:00</td>\n",
       "      <td>13:00:00</td>\n",
       "      <td>Free</td>\n",
       "      <td>{'session_id': '9b1c3e74-50aa-4eb8-8b70-04780a...</td>\n",
       "      <td>18</td>\n",
       "      <td>0</td>\n",
       "      <td>COVAXIN</td>\n",
       "      <td>07-05-2021</td>\n",
       "    </tr>\n",
       "  </tbody>\n",
       "</table>\n",
       "</div>"
      ],
      "text/plain": [
       "   center_id                            name  \\\n",
       "0     693349  Baramunda UPHC WN50 (Age18-44)   \n",
       "1     693349  Baramunda UPHC WN50 (Age18-44)   \n",
       "2     693349  Baramunda UPHC WN50 (Age18-44)   \n",
       "3     693349  Baramunda UPHC WN50 (Age18-44)   \n",
       "4     693349  Baramunda UPHC WN50 (Age18-44)   \n",
       "\n",
       "                                             address state_name district_name  \\\n",
       "0  Near Nilakanteswar Mandir Sapatabdhi Nagar Bhu...     Odisha        Khurda   \n",
       "1  Near Nilakanteswar Mandir Sapatabdhi Nagar Bhu...     Odisha        Khurda   \n",
       "2  Near Nilakanteswar Mandir Sapatabdhi Nagar Bhu...     Odisha        Khurda   \n",
       "3  Near Nilakanteswar Mandir Sapatabdhi Nagar Bhu...     Odisha        Khurda   \n",
       "4  Near Nilakanteswar Mandir Sapatabdhi Nagar Bhu...     Odisha        Khurda   \n",
       "\n",
       "       block_name  pincode  lat  long      from        to fee_type  \\\n",
       "0  Bhubaneswar MC   751003   20    85  08:30:00  13:00:00     Free   \n",
       "1  Bhubaneswar MC   751003   20    85  08:30:00  13:00:00     Free   \n",
       "2  Bhubaneswar MC   751003   20    85  08:30:00  13:00:00     Free   \n",
       "3  Bhubaneswar MC   751003   20    85  08:30:00  13:00:00     Free   \n",
       "4  Bhubaneswar MC   751003   20    85  08:30:00  13:00:00     Free   \n",
       "\n",
       "                                            sessions  Min_Age  \\\n",
       "0  {'session_id': '2456762c-fd53-4e6f-baeb-a722fe...       18   \n",
       "1  {'session_id': 'e7ff8b8e-61e5-4030-9e14-3c143f...       18   \n",
       "2  {'session_id': '3d0277b4-8eac-4a4e-a5de-7cdde3...       18   \n",
       "3  {'session_id': 'efce6cc7-8dad-4058-b5e3-e462f7...       18   \n",
       "4  {'session_id': '9b1c3e74-50aa-4eb8-8b70-04780a...       18   \n",
       "\n",
       "   Doses_Available  Vaccine        Date  \n",
       "0                0  COVAXIN  03-05-2021  \n",
       "1                0  COVAXIN  04-05-2021  \n",
       "2                0  COVAXIN  05-05-2021  \n",
       "3                0  COVAXIN  06-05-2021  \n",
       "4                0  COVAXIN  07-05-2021  "
      ]
     },
     "execution_count": 14,
     "metadata": {},
     "output_type": "execute_result"
    }
   ],
   "source": [
    "vax_info_all_sessions_df = vax_info_df.explode('sessions').reset_index(drop=True)\n",
    "vax_info_all_sessions_df['Min_Age'] = vax_info_all_sessions_df.sessions.apply(lambda x: x['min_age_limit'])\n",
    "vax_info_all_sessions_df['Doses_Available'] = vax_info_all_sessions_df.sessions.apply(lambda x: x['available_capacity'])\n",
    "vax_info_all_sessions_df['Vaccine'] = vax_info_all_sessions_df.sessions.apply(lambda x: x['vaccine']).fillna('UNKNOWN')\n",
    "vax_info_all_sessions_df['Date'] = vax_info_all_sessions_df.sessions.apply(lambda x: x['date'])\n",
    "\n",
    "vax_info_all_sessions_df.head()"
   ]
  },
  {
   "cell_type": "markdown",
   "metadata": {},
   "source": [
    "**As I have demonstrated we can pull these relevant data from web. Now let's build an app around it!**"
   ]
  }
 ],
 "metadata": {
  "kernelspec": {
   "display_name": "Python 3",
   "language": "python",
   "name": "python3"
  },
  "language_info": {
   "codemirror_mode": {
    "name": "ipython",
    "version": 3
   },
   "file_extension": ".py",
   "mimetype": "text/x-python",
   "name": "python",
   "nbconvert_exporter": "python",
   "pygments_lexer": "ipython3",
   "version": "3.8.8"
  }
 },
 "nbformat": 4,
 "nbformat_minor": 4
}
